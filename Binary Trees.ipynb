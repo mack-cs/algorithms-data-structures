{
 "cells": [
  {
   "cell_type": "markdown",
   "id": "bcb5e801",
   "metadata": {},
   "source": [
    "Sure, I'd be happy to teach you about binary trees in Python!\n",
    "\n",
    "A binary tree is a tree data structure in which each node can have at most two children, known as the left child and the right child. Binary trees are often used to implement search algorithms and are useful in applications such as sorting and binary search.\n",
    "\n",
    "In Python, we can represent a binary tree using classes. Each node in the binary tree will be an instance of the Node class, which will contain the node's value and references to its left and right children.\n",
    "\n",
    "Here's an example implementation of a binary tree in Python:"
   ]
  },
  {
   "cell_type": "code",
   "execution_count": 4,
   "id": "f0268a25",
   "metadata": {},
   "outputs": [],
   "source": [
    "class Node:\n",
    "    def __init__(self, value):\n",
    "        self.value = value\n",
    "        self.left = None\n",
    "        self.right = None"
   ]
  },
  {
   "cell_type": "markdown",
   "id": "5dd53b3e",
   "metadata": {},
   "source": [
    "In this implementation, the Node class has a constructor that takes a value argument and initializes the left and right child references to None.\n",
    "\n",
    "Next, we can define a BinaryTree class that contains methods for inserting nodes into the tree and traversing the tree:"
   ]
  },
  {
   "cell_type": "code",
   "execution_count": 17,
   "id": "3aa36f2d",
   "metadata": {},
   "outputs": [],
   "source": [
    "class BinaryTree:\n",
    "    def __init__(self):\n",
    "        self.root = None\n",
    "        \n",
    "    def insert(self, value):\n",
    "        if self.root is None:\n",
    "            self.root = Node(value)\n",
    "        else:\n",
    "            self._insert(value, self.root)\n",
    "    def _insert(self, value, node):\n",
    "        if value < node.value:\n",
    "            if node.left is None:\n",
    "                node.left = Node(value)\n",
    "            else:\n",
    "                self._insert(value, node.left)\n",
    "        else:\n",
    "            if node.right is None:\n",
    "                node.right = Node(value)\n",
    "            else:\n",
    "                self._insert(value, node.right)\n",
    "    def traverse_inorder(self,node):\n",
    "        if node is not None:\n",
    "            self.traverse_inorder(node.left)\n",
    "            print(node.value)\n",
    "            self.traverse_inorder(node.right)\n",
    "        \n",
    "        "
   ]
  },
  {
   "cell_type": "markdown",
   "id": "4ca75c1f",
   "metadata": {},
   "source": [
    "In this implementation, the BinaryTree class has a constructor that initializes the root node to None. The insert method is used to insert a new node into the tree. If the root node is None, the new node becomes the root. Otherwise, the _insert method is called recursively to insert the node into the appropriate place in the tree based on its value.\n",
    "\n",
    "The traverse_inorder method performs an in-order traversal of the tree, visiting the left child, then the current node, then the right child. This method can be called on the root node of the tree to print out the values in sorted order.\n",
    "\n",
    "Here's an example usage of the binary tree:"
   ]
  },
  {
   "cell_type": "code",
   "execution_count": 18,
   "id": "bf102bf4",
   "metadata": {},
   "outputs": [
    {
     "name": "stdout",
     "output_type": "stream",
     "text": [
      "1\n",
      "3\n",
      "5\n",
      "7\n",
      "9\n"
     ]
    }
   ],
   "source": [
    "tree = BinaryTree()\n",
    "tree.insert(5)\n",
    "tree.insert(3)\n",
    "tree.insert(7)\n",
    "tree.insert(1)\n",
    "tree.insert(9)\n",
    "tree.traverse_inorder(tree.root)\n"
   ]
  },
  {
   "cell_type": "markdown",
   "id": "1b553aff",
   "metadata": {},
   "source": [
    "In this example, we create a new binary tree, insert several nodes into the tree, and then perform an in-order traversal of the tree to print out the values in sorted order. The output of this program would be:"
   ]
  },
  {
   "cell_type": "code",
   "execution_count": null,
   "id": "e78f6a11",
   "metadata": {},
   "outputs": [],
   "source": []
  },
  {
   "cell_type": "markdown",
   "id": "6343150a",
   "metadata": {},
   "source": [
    "Search: To search for a value in a binary tree, we can start at the root node and recursively traverse the tree based on the value. If the value is less than the current node's value, we go left; if it's greater, we go right. If we find a node with the desired value, we return True; otherwise, if we reach a leaf node with no children, we return False.\n",
    "Here's an implementation of the search function:"
   ]
  },
  {
   "cell_type": "code",
   "execution_count": null,
   "id": "3d36416a",
   "metadata": {},
   "outputs": [],
   "source": [
    "class BinaryTree:\n",
    "    def __init__(self):\n",
    "        self.root = None\n",
    "        \n",
    "    def insert(self, value):\n",
    "        if self.root is None:\n",
    "            self.root = Node(value)\n",
    "        else:\n",
    "            self._insert(value, self.root)\n",
    "    def _insert(self, value, node):\n",
    "        if value < node.value:\n",
    "            if node.left is None:\n",
    "                node.left = Node(value)\n",
    "            else:\n",
    "                self._insert(value, node.left)\n",
    "        else:\n",
    "            if node.right is None:\n",
    "                node.right = Node(value)\n",
    "            else:\n",
    "                self._insert(value, node.right)\n",
    "    def traverse_inorder(self,node):\n",
    "        if node is not None:\n",
    "            self.traverse_inorder(node.left)\n",
    "            print(node.value)\n",
    "            self.traverse_inorder(node.right)\n",
    "    def search(self, value):\n",
    "        return self._search(value, self.root)\n",
    "    \n",
    "    def _search(self, value, node):\n",
    "        if node is None:\n",
    "            return False\n",
    "        elif value == node.value:\n",
    "            return True\n",
    "        elif value < node.value:\n",
    "            return self._search(value, node.left)\n",
    "        else:\n",
    "            return self._search(value, node.right)\n",
    "        \n",
    "        "
   ]
  },
  {
   "cell_type": "markdown",
   "id": "74cc7774",
   "metadata": {},
   "source": [
    "Deletion: Deleting a node from a binary tree is a bit more complex than insertion or search. First, we need to find the node to delete using a search algorithm. Then, depending on the number of children the node has, we need to perform different operations to maintain the binary tree structure. If the node has no children, we can simply remove it from the tree. If the node has one child, we can replace the node with its child. If the node has two children, we can either find the smallest value in the right subtree (i.e., the leftmost node in the right subtree) and replace the node's value with it, or we can find the largest value in the left subtree (i.e., the rightmost node in the left subtree) and replace the node's value with it.\n",
    "Here's an implementation of the deletion function:"
   ]
  },
  {
   "cell_type": "code",
   "execution_count": null,
   "id": "074856dc",
   "metadata": {},
   "outputs": [],
   "source": [
    "def delete(self, value):\n",
    "    self.root = self._delete(value, self.root)\n",
    "\n",
    "def _delete(self, value, node):\n",
    "    if node is None:\n",
    "        return node\n",
    "    elif value < node.value:\n",
    "        node.left = self._delete(value, node.left)\n",
    "    elif value > node.value:\n",
    "        node.right = self._delete(value, node.right)\n",
    "    else:\n",
    "        if node.left is None:\n",
    "            return node.right\n",
    "        elif node.right is None:\n",
    "            return node.left\n",
    "        else:\n",
    "            min_node = self._find_min(node.right)\n",
    "            node.value = min_node.value\n",
    "            node.right = self._delete(min_node.value, node.right)\n",
    "    return node\n",
    "\n",
    "def _find_min(self, node):\n",
    "    while node.left is not None:\n",
    "        node = node.left\n",
    "    return node\n"
   ]
  },
  {
   "cell_type": "markdown",
   "id": "54c95e72",
   "metadata": {},
   "source": [
    "In this implementation, the _delete method takes a value and a node as input and recursively searches for the node with the given value. If the node is found, it is deleted based on the number of children it has. If it has no children, it is simply removed from the tree. If it has one child, the child replaces the node. If it has two children, we find the smallest value in the right subtree and replace the node's value with it, then delete the node with the smallest value from the right subtree.\n",
    "\n",
    "Height: The height of a binary tree is the number of edges on the longest path from the root to a leaf node. We can compute the height of a binary tree recursively as the maximum of the heights of its left and right subtrees, plus one.\n",
    "Here's an implementation of the height function:\n",
    "\n"
   ]
  },
  {
   "cell_type": "code",
   "execution_count": null,
   "id": "8b59a52b",
   "metadata": {},
   "outputs": [],
   "source": [
    "def height(self):\n",
    "    return self._height(self.root)\n",
    "\n",
    "def _height(self, node):\n",
    "    if node is None:\n",
    "        return 0\n",
    "    else:\n",
    "        left_height = self._height(node.left)\n",
    "        right_height = self._height(node.right)\n",
    "       \n"
   ]
  },
  {
   "cell_type": "markdown",
   "id": "0f4fb4c1",
   "metadata": {},
   "source": [
    "#### Iterarion Implementation"
   ]
  },
  {
   "cell_type": "code",
   "execution_count": null,
   "id": "ec467f33",
   "metadata": {},
   "outputs": [],
   "source": [
    "class Node:\n",
    "    def __init__(self, value):\n",
    "        self.value = value\n",
    "        self.left = None\n",
    "        self.right = None\n",
    "\n",
    "class BinarySearchTree:\n",
    "    def __init__(self):\n",
    "        self.root = None\n",
    "\n",
    "    def insert(self, value):\n",
    "        node = Node(value)\n",
    "        if self.root is None:\n",
    "            self.root = node\n",
    "            return\n",
    "        current = self.root\n",
    "        while current is not None:\n",
    "            if value < current.value:\n",
    "                if current.left is None:\n",
    "                    current.left = node\n",
    "                    return\n",
    "                current = current.left\n",
    "            else:\n",
    "                if current.right is None:\n",
    "                    current.right = node\n",
    "                    return\n",
    "                current = current.right\n",
    "\n",
    "    def search(self, value):\n",
    "        current = self.root\n",
    "        while current is not None:\n",
    "            if current.value == value:\n",
    "                return True\n",
    "            elif value < current.value:\n",
    "                current = current.left\n",
    "            else:\n",
    "                current = current.right\n",
    "        return False\n",
    "\n",
    "    def delete(self, value):\n",
    "        parent = None\n",
    "        current = self.root\n",
    "        while current is not None and current.value != value:\n",
    "            parent = current\n",
    "            if value < current.value:\n",
    "                current = current.left\n",
    "            else:\n",
    "                current = current.right\n",
    "        if current is None:\n",
    "            return\n",
    "        if current.left is None:\n",
    "            child = current.right\n",
    "        elif current.right is None:\n",
    "            child = current.left\n",
    "        else:\n",
    "            successor_parent = current\n",
    "            successor = current.right\n",
    "            while successor.left is not None:\n",
    "                successor_parent = successor\n",
    "                successor = successor.left\n",
    "            if successor_parent != current:\n",
    "                successor_parent.left = successor.right\n",
    "                successor.right = current.right\n",
    "            child = successor\n",
    "            child.left = current.left\n",
    "        if parent is None:\n",
    "            self.root = child\n",
    "        elif parent.left == current:\n",
    "            parent.left = child\n",
    "        else:\n",
    "            parent.right = child\n",
    "\n",
    "    def height(self):\n",
    "        if self.root is None:\n",
    "            return 0\n",
    "        stack = [(self.root, 1)]\n",
    "        max_height = 0\n",
    "        while stack:\n",
    "            node, depth = stack.pop()\n",
    "            if node is None:\n",
    "                continue\n",
    "            max_height = max(max_height, depth)\n",
    "            stack.append((node.left, depth + 1))\n",
    "            stack.append((node.right, depth + 1))\n",
    "        return max_height - 1\n"
   ]
  },
  {
   "cell_type": "markdown",
   "id": "6caebf02",
   "metadata": {},
   "source": [
    "In this implementation, we use a stack data structure to keep track of the nodes we need to visit during the iterative traversal. We push the root node onto the stack, and then loop until the stack is empty. In each iteration, we pop a node from the stack and process it. If the node is not None, we update the max height of the tree and push its left and right children onto the stack with their respective depths. Finally, we return the maximum depth of the tree minus one, which is the height of the tree."
   ]
  },
  {
   "cell_type": "code",
   "execution_count": null,
   "id": "9fd97ca3",
   "metadata": {},
   "outputs": [],
   "source": []
  },
  {
   "cell_type": "code",
   "execution_count": null,
   "id": "ac80c72c",
   "metadata": {},
   "outputs": [],
   "source": []
  },
  {
   "cell_type": "code",
   "execution_count": null,
   "id": "21f5dd88",
   "metadata": {},
   "outputs": [],
   "source": []
  },
  {
   "cell_type": "code",
   "execution_count": null,
   "id": "4f0806e1",
   "metadata": {},
   "outputs": [],
   "source": []
  },
  {
   "cell_type": "code",
   "execution_count": null,
   "id": "f5e4b7bb",
   "metadata": {},
   "outputs": [],
   "source": []
  },
  {
   "cell_type": "code",
   "execution_count": null,
   "id": "798ae7ee",
   "metadata": {},
   "outputs": [],
   "source": []
  },
  {
   "cell_type": "code",
   "execution_count": null,
   "id": "8d665848",
   "metadata": {},
   "outputs": [],
   "source": []
  },
  {
   "cell_type": "code",
   "execution_count": null,
   "id": "8e881801",
   "metadata": {},
   "outputs": [],
   "source": []
  },
  {
   "cell_type": "code",
   "execution_count": null,
   "id": "7a41b220",
   "metadata": {},
   "outputs": [],
   "source": []
  },
  {
   "cell_type": "code",
   "execution_count": null,
   "id": "de7e6a16",
   "metadata": {},
   "outputs": [],
   "source": []
  },
  {
   "cell_type": "code",
   "execution_count": null,
   "id": "1e154fad",
   "metadata": {},
   "outputs": [],
   "source": []
  },
  {
   "cell_type": "code",
   "execution_count": null,
   "id": "10c655cd",
   "metadata": {},
   "outputs": [],
   "source": []
  }
 ],
 "metadata": {
  "kernelspec": {
   "display_name": "Python 3 (ipykernel)",
   "language": "python",
   "name": "python3"
  },
  "language_info": {
   "codemirror_mode": {
    "name": "ipython",
    "version": 3
   },
   "file_extension": ".py",
   "mimetype": "text/x-python",
   "name": "python",
   "nbconvert_exporter": "python",
   "pygments_lexer": "ipython3",
   "version": "3.9.7"
  }
 },
 "nbformat": 4,
 "nbformat_minor": 5
}
